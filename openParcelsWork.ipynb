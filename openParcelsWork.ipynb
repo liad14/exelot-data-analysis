{
 "cells": [
  {
   "cell_type": "code",
   "execution_count": null,
   "metadata": {},
   "outputs": [],
   "source": [
    "import csv\n",
    "#csvFile = csv.reader(csvfile)\n",
    "\n",
    "with open( 'C:\\Users\\liadc\\Downloads\\parcelsDeliveredPerDayBySource_2022-09-16_21-05-19.csv', newline='') as csvfile:\n",
    "  spamreader = csv.reader(csvfile, delimiter=' ', quotechar='|')\n",
    "  for row in spamreader:\n",
    "    print(', '.join(row))\n"
   ]
  }
 ],
 "metadata": {
  "language_info": {
   "name": "python"
  },
  "orig_nbformat": 4
 },
 "nbformat": 4,
 "nbformat_minor": 2
}
